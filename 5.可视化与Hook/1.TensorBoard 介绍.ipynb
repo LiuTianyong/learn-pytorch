{
 "cells": [
  {
   "cell_type": "markdown",
   "metadata": {},
   "source": [
    "### TensorBoard 介绍\n",
    "```\n",
    "TensorBoard 是 TensorFlow 中强大的可视化工具，支持标量、文本、图像、音频、视频和 Embedding 等多种数据可视化。\n",
    "在 PyTorch 中也可以使用 TensorBoard，具体是使用 TensorboardX 来调用 TensorBoard。除了安装 TensorboardX，还要安装 TensorFlow 和 TensorBoard，其中 TensorFlow 和 TensorBoard 需要一致。\n",
    "TensorBoardX 可视化的流程需要首先编写 Python 代码把需要可视化的数据保存到 event file 文件中，然后再使用 TensorBoardX 读取 event file 展示到网页中。\n"
   ]
  },
  {
   "cell_type": "code",
   "execution_count": 40,
   "metadata": {},
   "outputs": [],
   "source": [
    "# -*- coding: utf-8 -*-\n",
    "\"\"\"\n",
    "通用函数\n",
    "\"\"\"\n",
    "\n",
    "\n",
    "import torch\n",
    "import random\n",
    "import numpy as np\n",
    "from PIL import Image\n",
    "import torchvision.transforms as transforms\n",
    "\n",
    "\n",
    "def transform_invert(img_, transform_train):\n",
    "    \"\"\"\n",
    "    将data 进行反transfrom操作\n",
    "    :param img_: tensor\n",
    "    :param transform_train: torchvision.transforms\n",
    "    :return: PIL image\n",
    "    \"\"\"\n",
    "    if 'Normalize' in str(transform_train):\n",
    "        norm_transform = list(filter(lambda x: isinstance(x, transforms.Normalize), transform_train.transforms))\n",
    "        mean = torch.tensor(norm_transform[0].mean, dtype=img_.dtype, device=img_.device)\n",
    "        std = torch.tensor(norm_transform[0].std, dtype=img_.dtype, device=img_.device)\n",
    "        img_.mul_(std[:, None, None]).add_(mean[:, None, None])\n",
    "\n",
    "    img_ = img_.transpose(0, 2).transpose(0, 1)  # C*H*W --> H*W*C\n",
    "    if 'ToTensor' in str(transform_train):\n",
    "        img_ = img_.detach().numpy() * 255\n",
    "\n",
    "    if img_.shape[2] == 3:\n",
    "        img_ = Image.fromarray(img_.astype('uint8')).convert('RGB')\n",
    "    elif img_.shape[2] == 1:\n",
    "        img_ = Image.fromarray(img_.astype('uint8').squeeze())\n",
    "    else:\n",
    "        raise Exception(\"Invalid img shape, expected 1 or 3 in axis 2, but got {}!\".format(img_.shape[2]) )\n",
    "\n",
    "    return img_\n",
    "\n",
    "\n",
    "def set_seed(seed=1):\n",
    "    random.seed(seed)\n",
    "    np.random.seed(seed)\n",
    "    torch.manual_seed(seed)\n",
    "    torch.cuda.manual_seed(seed)\n",
    "\n",
    "\n"
   ]
  },
  {
   "cell_type": "code",
   "execution_count": 41,
   "metadata": {},
   "outputs": [],
   "source": [
    "# 下面的代码是一个保存 event file 的例子\n",
    "import numpy as np\n",
    "import matplotlib.pyplot as plt\n",
    "from tensorboardX import SummaryWriter\n",
    "\n",
    "max_epoch = 64\n",
    "\n",
    "writer = SummaryWriter(comment='test_comment', filename_suffix=\"test_suffix\")\n",
    "\n",
    "for x in range(max_epoch):\n",
    "    writer.add_scalar('y=2x', x * 2, x)\n",
    "    writer.add_scalar('y=pow_2_x', 2 ** x, x)\n",
    "    writer.add_scalars('data/scalar_group', {\"xsinx\": x * np.sin(x),\n",
    "                                                \"xcosx\": x * np.cos(x) }, x)\n",
    "\n",
    "writer.close()"
   ]
  },
  {
   "cell_type": "markdown",
   "metadata": {},
   "source": [
    "### optimizer 的属性\n",
    "```python\n",
    "class Optimizer(object):\n",
    "    def __init__(self, params, defaults):        \n",
    "        self.defaults = defaults\n",
    "        self.state = defaultdict(dict)\n",
    "        self.param_groups = []\n",
    "```\n",
    "```\n",
    "主要有 3 个属性\n",
    "    defaults：优化器的超参数，如 weight_decay，momentum\n",
    "    state：参数的缓存，如 momentum 中需要用到前几次的梯度，就缓存在这个变量中\n",
    "    param_groups：管理的参数组，是一个 list，其中每个元素是字典，包括 momentum、lr、weight_decay、params 等。\n",
    "    _step_count：记录更新 次数，在学习率调整中使用\n",
    "```"
   ]
  },
  {
   "cell_type": "markdown",
   "metadata": {},
   "source": [
    "### SummaryWriter\n",
    "```python\n",
    "torch.utils.tensorboard.writer.SummaryWriter(log_dir=None, comment='', purge_step=None, max_queue=10, flush_secs=120, filename_suffix='')\n",
    "```\n",
    "```\n",
    "功能：提供创建 event file 的高级接口\n",
    "主要功能：\n",
    "    log_dir：event file 输出文件夹，默认为runs文件夹\n",
    "    comment：不指定 log_dir 时，runs文件夹里的子文件夹后缀\n",
    "    filename_suffix：event_file 文件名后缀"
   ]
  },
  {
   "cell_type": "code",
   "execution_count": 42,
   "metadata": {},
   "outputs": [],
   "source": [
    "log_dir = \"./train_log/test_log_dir\"\n",
    "writer = SummaryWriter(log_dir=log_dir, comment='_scalars', filename_suffix=\"12345678\")\n",
    "# writer = SummaryWriter(comment='_scalars', filename_suffix=\"12345678\")\n",
    "\n",
    "for x in range(60):\n",
    "    writer.add_scalar('y=pow_2_x', 2 ** x, x)\n",
    "\n",
    "writer.close()"
   ]
  },
  {
   "cell_type": "markdown",
   "metadata": {},
   "source": [
    "### add_scalar\n",
    "```python\n",
    "add_scalar(tag, scalar_value, global_step=None, walltime=None)\n",
    "```\n",
    "```\n",
    "功能：记录标量\n",
    "    tag：图像的标签名，图的唯一标识\n",
    "    scalar_value：要记录的标量，y 轴的数据\n",
    "    global_step：x 轴的数据"
   ]
  },
  {
   "cell_type": "markdown",
   "metadata": {},
   "source": [
    "### add_scalars\n",
    "```上面的add_scalar()只能记录一条曲线的数据。但是我们在实际中可能需要在一张图中同时展示多条曲线，比如在训练模型时，经常需要同时查看训练集和测试集的 loss。这时我们可以使用add_scalars()方法\n",
    "```\n",
    "```python\n",
    "add_scalars(main_tag, tag_scalar_dict, global_step=None, walltime=None)\n",
    "```\n",
    "main_tag：该图的标签\n",
    "tag_scalar_dict：用字典的形式记录多个曲线。key 是变量的 tag，value 是变量的值"
   ]
  },
  {
   "cell_type": "code",
   "execution_count": 43,
   "metadata": {},
   "outputs": [],
   "source": [
    "from tensorboardX import SummaryWriter\n",
    "\n",
    "max_epoch = 64\n",
    "writer = SummaryWriter(comment='test_comment', filename_suffix=\"test_suffix\")\n",
    "for x in range(max_epoch):\n",
    "    writer.add_scalar('y=2x', x * 2, x)\n",
    "    writer.add_scalar('y=pow_2_x', 2 ** x, x)\n",
    "    writer.add_scalars('data/scalar_group', {\"xsinx\": x * np.sin(x),\n",
    "                                                \"xcosx\": x * np.cos(x)}, x)\n",
    "writer.close()"
   ]
  },
  {
   "cell_type": "markdown",
   "metadata": {},
   "source": [
    "### add_histogram\n",
    "```python\n",
    "add_histogram(tag, values, global_step=None, bins='tensorflow', walltime=None, max_bins=None)\n",
    "```\n",
    "```\n",
    "功能：统计直方图与多分位折线图\n",
    "    tag：图像的标签名，图的唯一标识\n",
    "    values：要统计的参数，通常统计权值、偏置或者梯度\n",
    "    global_step：第几个子图\n",
    "    bins：取直方图的 bins"
   ]
  },
  {
   "cell_type": "code",
   "execution_count": 44,
   "metadata": {},
   "outputs": [
    {
     "data": {
      "image/png": "[encoded data removed]",
      "text/plain": [
       "<Figure size 640x480 with 2 Axes>"
      ]
     },
     "metadata": {},
     "output_type": "display_data"
    },
    {
     "data": {
      "image/png": "[encoded data removed]",
      "text/plain": [
       "<Figure size 640x480 with 2 Axes>"
      ]
     },
     "metadata": {},
     "output_type": "display_data"
    }
   ],
   "source": [
    "from tensorboardX import SummaryWriter\n",
    "writer = SummaryWriter(comment='test_comment', filename_suffix=\"test_suffix\")\n",
    "for x in range(2):\n",
    "    np.random.seed(x)\n",
    "    data_union = np.arange(100)\n",
    "    data_normal = np.random.normal(size=1000)\n",
    "    writer.add_histogram('distribution union', data_union, x)\n",
    "    writer.add_histogram('distribution normal', data_normal, x)\n",
    "    plt.subplot(121).hist(data_union, label=\"union\")\n",
    "    plt.subplot(122).hist(data_normal, label=\"normal\")\n",
    "    plt.legend()\n",
    "    plt.show()\n",
    "writer.close()"
   ]
  },
  {
   "cell_type": "markdown",
   "metadata": {},
   "source": [
    "### add_image\n",
    "```python\n",
    "add_image(tag, img_tensor, global_step=None, walltime=None, dataformats='CHW')\n",
    "```\n",
    "```\n",
    "功能：记录图像\n",
    "    tag：图像的标签名，图像的唯一标识\n",
    "    img_tensor：图像数据，需要注意尺度\n",
    "    global_step：记录这是第几个子图\n",
    "    dataformats：数据形式，取值有'CHW'，'HWC'，'HW'。如果像素值在 [0, 1] 之间，那么默认会乘以 255，放大到 [0, 255] 范围之间。如果有大于 1 的像素值，认为已经是 [0, 255] 范围，那么就不会放大。\n"
   ]
  },
  {
   "cell_type": "code",
   "execution_count": 45,
   "metadata": {},
   "outputs": [],
   "source": [
    "import time\n",
    "from tensorboardX import SummaryWriter\n",
    "\n",
    "writer = SummaryWriter(comment='test_your_comment', filename_suffix=\"_test_your_filename_suffix\")\n",
    "\n",
    "# img 1     random\n",
    "# 随机噪声的图片\n",
    "fake_img = torch.randn(3, 512, 512)\n",
    "writer.add_image(\"fake_img\", fake_img, 1)\n",
    "time.sleep(1)\n",
    "\n",
    "# img 2     ones\n",
    "# 像素值全为 1 的图片，会乘以 255，所以是白色的图片\n",
    "fake_img = torch.ones(3, 512, 512)\n",
    "time.sleep(1)\n",
    "writer.add_image(\"fake_img\", fake_img, 2)\n",
    "\n",
    "# img 3     1.1\n",
    "# 像素值全为 1.1 的图片，不会乘以 255，所以是黑色的图片\n",
    "fake_img = torch.ones(3, 512, 512) * 1.1\n",
    "time.sleep(1)\n",
    "writer.add_image(\"fake_img\", fake_img, 3)\n",
    "\n",
    "# img 4     HW\n",
    "fake_img = torch.rand(512, 512)\n",
    "writer.add_image(\"fake_img\", fake_img, 4, dataformats=\"HW\")\n",
    "\n",
    "# img 5     HWC\n",
    "fake_img = torch.rand(512, 512, 3)\n",
    "writer.add_image(\"fake_img\", fake_img, 5, dataformats=\"HWC\")\n",
    "\n",
    "writer.close()\n"
   ]
  },
  {
   "cell_type": "markdown",
   "metadata": {},
   "source": [
    "### torchvision.utils.make_grid\n",
    "```\n",
    "上面虽然可以通过拖动显示每张图片，但实际中我们希望在网格中同时展示多张图片，可以用到make_grid()函数。\n",
    "```\n",
    "```python\n",
    "torchvision.utils.make_grid(tensor: Union[torch.Tensor, List[torch.Tensor]], nrow: int = 8, padding: int = 2, normalize: bool = False, range: Optional[Tuple[int, int]] = None, scale_each: bool = False, pad_value: int = 0)\n",
    "```\n",
    "```\n",
    "功能：制作网格图像\n",
    "    tensor：图像数据，$B \\times C \\times H \\times W$的形状\n",
    "    nrow：行数(列数是自动计算的，为：$\\frac{B}{nrow}$)\n",
    "    padding：图像间距，单位是像素，默认为 2\n",
    "    normalize：是否将像素值标准化到 [0, 255] 之间\n",
    "    range：标准化范围，例如原图的像素值范围是 [-1000, 2000]，设置 range 为 [-600, 500]，那么会把小于 -600 的像素值变为 -600，那么会把大于 500 的像素值变为 500，然后标准化到 [0, 255] 之间\n",
    "    scale_each：是否单张图维度标准化\n",
    "    pad_value：间隔的像素值"
   ]
  },
  {
   "cell_type": "code",
   "execution_count": 46,
   "metadata": {},
   "outputs": [],
   "source": [
    "\n",
    "# writer = SummaryWriter(comment='test_your_comment', filename_suffix=\"_test_your_filename_suffix\")\n",
    "\n",
    "# split_dir = os.path.join(enviroments.project_dir, \"data\", \"rmb_split\")\n",
    "# train_dir = os.path.join(split_dir, \"train\")\n",
    "# # train_dir = \"path to your training data\"\n",
    "# # 先把宽高缩放到 [32， 64] 之间，然后使用 toTensor 把 Image 转化为 tensor，并把像素值缩放到 [0, 1] 之间\n",
    "# transform_compose = transforms.Compose([transforms.Resize((32, 64)), transforms.ToTensor()])\n",
    "# train_data = RMBDataset(data_dir=train_dir, transform=transform_compose)\n",
    "# train_loader = DataLoader(dataset=train_data, batch_size=16, shuffle=True)\n",
    "# data_batch, label_batch = next(iter(train_loader))\n",
    "\n",
    "# img_grid = vutils.make_grid(data_batch, nrow=4, normalize=True, scale_each=True)\n",
    "# # img_grid = vutils.make_grid(data_batch, nrow=4, normalize=False, scale_each=False)\n",
    "# writer.add_image(\"input img\", img_grid, 0)\n",
    "\n",
    "# writer.close()"
   ]
  },
  {
   "cell_type": "markdown",
   "metadata": {},
   "source": [
    "### AlexNet 卷积核与特征图可视化"
   ]
  },
  {
   "cell_type": "markdown",
   "metadata": {},
   "source": [
    "```\n",
    "用 TensorBoard 可视化 AlexNet 网络的前两层卷积核。其中每一层的卷积核都把输出的维度作为 global_step，包括两种可视化方式：一种是每个 (w, h) 维度作为灰度图，添加一个 c 的维度，形成 (b, c, h, w)，其中 b 是 输入的维度；另一种是把整个卷积核 reshape 到 c 是 3 的形状，再进行可视化。"
   ]
  },
  {
   "cell_type": "code",
   "execution_count": 47,
   "metadata": {},
   "outputs": [],
   "source": [
    "\n",
    "# writer = SummaryWriter(comment='test_your_comment', filename_suffix=\"_test_your_filename_suffix\")\n",
    "\n",
    "# alexnet = models.alexnet(pretrained=True)\n",
    "\n",
    "# # 当前遍历到第几层网络的卷积核了\n",
    "# kernel_num = -1\n",
    "# # 最多显示两层网络的卷积核:第 0 层和第 1 层\n",
    "# vis_max = 1\n",
    "\n",
    "# # 获取网络的每一层\n",
    "# for sub_module in alexnet.modules():\n",
    "#     # 判断这一层是否为 2 维卷积层\n",
    "#     if isinstance(sub_module, nn.Conv2d):\n",
    "#         kernel_num += 1\n",
    "#         # 如果当前层大于1，则停止记录权值\n",
    "#         if kernel_num > vis_max:\n",
    "#             break\n",
    "#         # 获取这一层的权值\n",
    "#         kernels = sub_module.weight\n",
    "#         # 权值的形状是 [c_out, c_int, k_w, k_h]\n",
    "#         c_out, c_int, k_w, k_h = tuple(kernels.shape)\n",
    "\n",
    "#         # 根据输出的每个维度进行可视化\n",
    "#         for o_idx in range(c_out):\n",
    "#             # 取出的数据形状是 (c_int, k_w, k_h)，对应 BHW; 需要扩展为 (c_int, 1, k_w, k_h)，对应 BCHW\n",
    "#             kernel_idx = kernels[o_idx, :, :, :].unsqueeze(1)   # make_grid需要 BCHW，这里拓展C维度\n",
    "#             # 注意 nrow 设置为 c_int，所以行数为 1。在 for 循环中每 添加一个，就会多一个 global_step\n",
    "#             kernel_grid = vutils.make_grid(kernel_idx, normalize=True, scale_each=True, nrow=c_int)\n",
    "#             writer.add_image('{}_Convlayer_split_in_channel'.format(kernel_num), kernel_grid, global_step=o_idx)\n",
    "#         # 因为 channe 为 3 时才能进行可视化，所以这里 reshape\n",
    "#         kernel_all = kernels.view(-1, 3, k_h, k_w)  #b, 3, h, w\n",
    "#         kernel_grid = vutils.make_grid(kernel_all, normalize=True, scale_each=True, nrow=8)  # c, h, w\n",
    "#         writer.add_image('{}_all'.format(kernel_num), kernel_grid, global_step=kernel_num+1)\n",
    "\n",
    "#         print(\"{}_convlayer shape:{}\".format(kernel_num, tuple(kernels.shape)))\n",
    "\n",
    "# writer.close()"
   ]
  },
  {
   "cell_type": "markdown",
   "metadata": {},
   "source": [
    "```\n",
    "下面把 AlexNet 的第一个卷积层的输出进行可视化，首先对图片数据进行预处理(resize，标准化等操作)。由于在定义模型时，网络层通过nn.Sequential() 堆叠，保存在 features 变量中。因此通过 features 获取第一个卷积层。把图片输入卷积层得到输出，形状为 (1, 64, 55, 55)，需要转换为 (64, 1, 55, 55)，对应 (B, C, H, W)，nrow 设置为 8，最后进行可视化，代码如下："
   ]
  },
  {
   "cell_type": "code",
   "execution_count": 48,
   "metadata": {},
   "outputs": [],
   "source": [
    "# writer = SummaryWriter(comment='test_your_comment', filename_suffix=\"_test_your_filename_suffix\")\n",
    "\n",
    "# # 数据\n",
    "# path_img = \"image/lena.png\"     # your path to image\n",
    "# normMean = [0.49139968, 0.48215827, 0.44653124]\n",
    "# normStd = [0.24703233, 0.24348505, 0.26158768]\n",
    "\n",
    "# norm_transform = transforms.Normalize(normMean, normStd)\n",
    "# img_transforms = transforms.Compose([\n",
    "#     transforms.Resize((224, 224)),\n",
    "#     transforms.ToTensor(),\n",
    "#     norm_transform\n",
    "# ])\n",
    "\n",
    "# img_pil = Image.open(path_img).convert('RGB')\n",
    "# if img_transforms is not None:\n",
    "#     img_tensor = img_transforms(img_pil)\n",
    "# img_tensor.unsqueeze_(0)    # chw --> bchw\n",
    "\n",
    "# # 模型\n",
    "# alexnet = models.alexnet(pretrained=True)\n",
    "\n",
    "# # forward\n",
    "# # 由于在定义模型时，网络层通过nn.Sequential() 堆叠，保存在 features 变量中。因此通过 features 获取第一个卷积层\n",
    "# convlayer1 = alexnet.features[0]\n",
    "# # 把图片输入第一个卷积层\n",
    "# fmap_1 = convlayer1(img_tensor)\n",
    "\n",
    "# # 预处理\n",
    "# fmap_1.transpose_(0, 1)  # bchw=(1, 64, 55, 55) --> (64, 1, 55, 55)\n",
    "# fmap_1_grid = vutils.make_grid(fmap_1, normalize=True, scale_each=True, nrow=8)\n",
    "\n",
    "# writer.add_image('feature map in conv1', fmap_1_grid, global_step=322)\n",
    "# writer.close()"
   ]
  },
  {
   "cell_type": "markdown",
   "metadata": {},
   "source": [
    "### add_graph\n",
    "```python\n",
    "add_graph(model, input_to_model=None, verbose=False)\n",
    "```\n",
    "```\n",
    "功能：可视化模型计算图\n",
    "    model：模型，必须继承自 nn.Module\n",
    "    input_to_model：输入给模型的数据，形状为 BCHW\n",
    "    verbose：是否打印图结构信息\n",
    "```"
   ]
  },
  {
   "cell_type": "code",
   "execution_count": 49,
   "metadata": {},
   "outputs": [],
   "source": [
    "import os\n",
    "import random\n",
    "import shutil\n",
    "import torch\n",
    "from PIL import Image\n",
    "\n",
    "import torch.optim as optim\n",
    "from torch.utils.data import Dataset\n",
    "from torch.utils.data import DataLoader\n",
    "import torch.nn as nn\n",
    "import torch.nn.functional as F\n",
    "\n",
    "import numpy as np\n",
    "import torchvision.transforms as transforms\n",
    "\n",
    "from tensorboardX import  SummaryWriter\n",
    "import matplotlib.pyplot as plt\n",
    "\n",
    "class LeNet(nn.Module):\n",
    "    # 子模块创建\n",
    "    def __init__(self, classes):\n",
    "        super(LeNet, self).__init__()\n",
    "        self.conv1 = nn.Conv2d(3, 6, 5)\n",
    "        self.conv2 = nn.Conv2d(6, 16, 5)\n",
    "        self.fc1 = nn.Linear(16 * 5 * 5, 120)\n",
    "        self.fc2 = nn.Linear(120, 84)\n",
    "        self.fc3 = nn.Linear(84, classes)\n",
    "\n",
    "    # 子模块拼接\n",
    "    def forward(self, x):\n",
    "        out = F.relu(self.conv1(x))\n",
    "        out = F.max_pool2d(out, 2)\n",
    "        out = F.relu(self.conv2(out))\n",
    "        out = F.max_pool2d(out, 2)\n",
    "        out = out.view(out.size(0), -1)\n",
    "        out = F.relu(self.fc1(out))\n",
    "        out = F.relu(self.fc2(out))\n",
    "        out = self.fc3(out)\n",
    "        return out\n",
    "\n",
    "    def initialize_weights(self):\n",
    "        for m in self.modules():\n",
    "            if isinstance(m, nn.Conv2d):\n",
    "                nn.init.xavier_normal_(m.weight.data)\n",
    "                if m.bias is not None:\n",
    "                    m.bias.data.zero_()\n",
    "            elif isinstance(m, nn.BatchNorm2d):\n",
    "                m.weight.data.fill_(1)\n",
    "                m.bias.data.zero_()\n",
    "            elif isinstance(m, nn.Linear):\n",
    "                nn.init.normal_(m.weight.data, 0, 0.1)\n",
    "                m.bias.data.zero_()\n",
    "\n",
    "\n",
    "class LeNetSequetial(nn.Module):\n",
    "    def __init__(self, classes):\n",
    "        super(LeNetSequetial, self).__init__()\n",
    "        self.features = nn.Sequential(\n",
    "            nn.Conv2d(3, 6, 5),\n",
    "            nn.ReLU(),\n",
    "            nn.MaxPool2d(2, 2),\n",
    "            nn.Conv2d(6, 16, 5),\n",
    "            nn.ReLU(),\n",
    "            nn.MaxPool2d(2, 2)\n",
    "        )\n",
    "        self.classifier = nn.Sequential(\n",
    "            nn.Linear(16*5*5, 120),\n",
    "            nn.ReLU(),\n",
    "            nn.Linear(120, 84),\n",
    "            nn.ReLU(),\n",
    "            nn.Linear(84, classes)\n",
    "        )\n",
    "\n",
    "    def forward(self, x):\n",
    "        x = self.features(x)\n",
    "        x = x.view(x.size()[0], -1)\n",
    "        x = self.classifier(x)\n",
    "        return x\n",
    "\n",
    "    def initialize_weights(self):\n",
    "        for m in self.modules():\n",
    "            if isinstance(m, nn.Conv2d):\n",
    "                nn.init.xavier_normal_(m.weight.data)\n",
    "                if m.bias is not None:\n",
    "                    m.bias.data.zero_()\n",
    "            elif isinstance(m, nn.BatchNorm2d):\n",
    "                m.weight.data.fill_(1)\n",
    "                m.bias.data.zero_()\n",
    "            elif isinstance(m, nn.Linear):\n",
    "                nn.init.normal_(m.weight.data, 0, 0.1)\n",
    "                m.bias.data.zero_()"
   ]
  },
  {
   "cell_type": "code",
   "execution_count": 50,
   "metadata": {},
   "outputs": [],
   "source": [
    "writer = SummaryWriter(comment='test_your_comment', filename_suffix=\"_test_your_filename_suffix\")\n",
    "\n",
    "# 模型\n",
    "fake_img = torch.randn(1, 3, 32, 32)\n",
    "lenet = LeNet(classes=2)\n",
    "writer.add_graph(lenet, fake_img)\n",
    "writer.close()"
   ]
  },
  {
   "cell_type": "markdown",
   "metadata": {},
   "source": [
    "### torchsummary\n",
    "```\n",
    "模型计算图的可视化还是比较复杂，不够清晰。而torchsummary能够查看模型的输入和输出的形状，可以更加清楚地输出模型的结构。\n",
    "```\n",
    "```python\n",
    "torchsummary.summary(model, input_size, batch_size=-1, device=\"cuda\")\n",
    "```\n",
    "```\n",
    "功能：查看模型的信息，便于调试\n",
    "    model：pytorch 模型，必须继承自 nn.Module\n",
    "    input_size：模型输入 size，形状为 CHW\n",
    "    batch_size：batch_size，默认为 -1，在展示模型每层输出的形状时显示的 batch_size\n",
    "    device：\"cuda\"或者\"cpu\""
   ]
  },
  {
   "cell_type": "code",
   "execution_count": 53,
   "metadata": {},
   "outputs": [
    {
     "name": "stdout",
     "output_type": "stream",
     "text": [
      "----------------------------------------------------------------\n",
      "        Layer (type)               Output Shape         Param #\n",
      "================================================================\n",
      "            Conv2d-1            [-1, 6, 28, 28]             456\n",
      "            Conv2d-2           [-1, 16, 10, 10]           2,416\n",
      "            Linear-3                  [-1, 120]          48,120\n",
      "            Linear-4                   [-1, 84]          10,164\n",
      "            Linear-5                    [-1, 2]             170\n",
      "================================================================\n",
      "Total params: 61,326\n",
      "Trainable params: 61,326\n",
      "Non-trainable params: 0\n",
      "----------------------------------------------------------------\n",
      "Input size (MB): 0.01\n",
      "Forward/backward pass size (MB): 0.05\n",
      "Params size (MB): 0.23\n",
      "Estimated Total Size (MB): 0.30\n",
      "----------------------------------------------------------------\n",
      "None\n"
     ]
    }
   ],
   "source": [
    "from torchsummary import summary\n",
    "# 模型\n",
    "lenet = LeNet(classes=2)\n",
    "print(summary(lenet, (3, 32, 32), device=\"cpu\"))"
   ]
  },
  {
   "cell_type": "code",
   "execution_count": null,
   "metadata": {},
   "outputs": [],
   "source": []
  }
 ],
 "metadata": {
  "kernelspec": {
   "display_name": "Python 3.8.13 ('pytorch_env')",
   "language": "python",
   "name": "python3"
  },
  "language_info": {
   "codemirror_mode": {
    "name": "ipython",
    "version": 3
   },
   "file_extension": ".py",
   "mimetype": "text/x-python",
   "name": "python",
   "nbconvert_exporter": "python",
   "pygments_lexer": "ipython3",
   "version": "3.8.13"
  },
  "orig_nbformat": 4,
  "vscode": {
   "interpreter": {
    "hash": "6ee8edfac98a68d22388d5c9d2c882fbbce04e225b817d7a8b0ca882dcedeab3"
   }
  }
 },
 "nbformat": 4,
 "nbformat_minor": 2
}
