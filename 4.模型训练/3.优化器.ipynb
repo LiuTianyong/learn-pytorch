{
 "cells": [
  {
   "cell_type": "markdown",
   "metadata": {},
   "source": [
    "### 优化器的概念\n",
    "PyTorch 中的优化器是用于管理并更新模型中可学习参数的值，使得模型输出更加接近真实标签。\n"
   ]
  },
  {
   "cell_type": "markdown",
   "metadata": {},
   "source": [
    "### optimizer 的属性\n",
    "```python\n",
    "class Optimizer(object):\n",
    "    def __init__(self, params, defaults):        \n",
    "        self.defaults = defaults\n",
    "        self.state = defaultdict(dict)\n",
    "        self.param_groups = []\n",
    "```\n",
    "```\n",
    "主要有 3 个属性\n",
    "    defaults：优化器的超参数，如 weight_decay，momentum\n",
    "    state：参数的缓存，如 momentum 中需要用到前几次的梯度，就缓存在这个变量中\n",
    "    param_groups：管理的参数组，是一个 list，其中每个元素是字典，包括 momentum、lr、weight_decay、params 等。\n",
    "    _step_count：记录更新 次数，在学习率调整中使用"
   ]
  },
  {
   "cell_type": "markdown",
   "metadata": {},
   "source": [
    "### optimizer 的方法\n",
    "#### zero_grad()：清空所管理参数的梯度。由于 PyTorch 的特性是张量的梯度不自动清零，因此每次反向传播之后都需要清空梯度。代码如下\n",
    "```python\n",
    "def zero_grad(self):\n",
    "    r\"\"\"Clears the gradients of all optimized :class:`torch.Tensor` s.\"\"\"\n",
    "    for group in self.param_groups:\n",
    "        for p in group['params']:\n",
    "            if p.grad is not None:\n",
    "                p.grad.detach_()\n",
    "                p.grad.zero_()\n",
    "```\n",
    "#### step()：执行一步梯度更新\n",
    "#### add_param_group()：添加参数组，主要代码如下：\n",
    "```python\n",
    "def add_param_group(self, param_group):\n",
    "    params = param_group['params']\n",
    "    if isinstance(params, torch.Tensor):\n",
    "        param_group['params'] = [params]\n",
    "    ...\n",
    "    self.param_groups.append(param_group)\n",
    "```\n",
    "#### state_dict()：获取优化器当前状态信息字典\n",
    "#### load_state_dict()：加载状态信息字典，包括 state 、momentum_buffer 和 param_groups。主要用于模型的断点续训练。我们可以在每隔 50 个 epoch 就保存模型的 state_dict 到硬盘，在意外终止训练时，可以继续加载上次保存的状态，继续训练。\n",
    "\n",
    "```python\n",
    "def state_dict(self):\n",
    "    r\"\"\"Returns the state of the optimizer as a :class:`dict`.\n",
    "    ...\n",
    "    return {\n",
    "    'state': packed_state,\n",
    "    'param_groups': param_groups,\n",
    "    }\n",
    "```"
   ]
  },
  {
   "cell_type": "markdown",
   "metadata": {},
   "source": [
    "### step()\n",
    "张量 weight 的形状为$2 \\times 2$，并设置梯度为 1，把 weight 传进优化器，学习率设置为 1，执行optimizer.step()更新梯度，也就是所有的张量都减去 1"
   ]
  },
  {
   "cell_type": "code",
   "execution_count": 55,
   "metadata": {},
   "outputs": [
    {
     "name": "stdout",
     "output_type": "stream",
     "text": [
      "weight before step:tensor([[-0.0388, -1.8812],\n",
      "        [ 1.0339,  1.0047]])\n",
      "weight after step:tensor([[-0.1388, -1.9812],\n",
      "        [ 0.9339,  0.9047]])\n"
     ]
    }
   ],
   "source": [
    "import torch\n",
    "from torch import optim\n",
    "weight = torch.randn((2, 2), requires_grad=True)\n",
    "weight.grad = torch.ones((2, 2))\n",
    "\n",
    "optimizer = optim.SGD([weight], lr=0.1)\n",
    "\n",
    "print(\"weight before step:{}\".format(weight.data))\n",
    "optimizer.step()        # 修改lr=1, 0.1观察结果\n",
    "print(\"weight after step:{}\".format(weight.data))"
   ]
  },
  {
   "cell_type": "markdown",
   "metadata": {},
   "source": [
    "### zero_grad()"
   ]
  },
  {
   "cell_type": "code",
   "execution_count": 56,
   "metadata": {},
   "outputs": [
    {
     "name": "stdout",
     "output_type": "stream",
     "text": [
      "weight before step:tensor([[-0.1388, -1.9812],\n",
      "        [ 0.9339,  0.9047]])\n",
      "weight after step:tensor([[-0.2388, -2.0812],\n",
      "        [ 0.8339,  0.8047]])\n",
      "weight in optimizer:4400857472\n",
      "weight in weight:4400857472\n",
      "\n",
      "weight.grad is tensor([[1., 1.],\n",
      "        [1., 1.]])\n",
      "\n",
      "after optimizer.zero_grad(), weight.grad is\n",
      "tensor([[0., 0.],\n",
      "        [0., 0.]])\n"
     ]
    }
   ],
   "source": [
    "print(\"weight before step:{}\".format(weight.data))\n",
    "optimizer.step()        # 修改lr=1 0.1观察结果\n",
    "print(\"weight after step:{}\".format(weight.data))\n",
    "\n",
    "print(\"weight in optimizer:{}\\nweight in weight:{}\\n\".format(id(optimizer.param_groups[0]['params'][0]), id(weight)))\n",
    "\n",
    "print(\"weight.grad is {}\\n\".format(weight.grad))\n",
    "\n",
    "optimizer.zero_grad()\n",
    "print(\"after optimizer.zero_grad(), weight.grad is\\n{}\".format(weight.grad))"
   ]
  },
  {
   "cell_type": "markdown",
   "metadata": {},
   "source": [
    "### add_param_group()"
   ]
  },
  {
   "cell_type": "code",
   "execution_count": 57,
   "metadata": {},
   "outputs": [
    {
     "name": "stdout",
     "output_type": "stream",
     "text": [
      "optimizer.param_groups is\n",
      "[{'params': [tensor([[-0.2388, -2.0812],\n",
      "        [ 0.8339,  0.8047]], requires_grad=True)], 'lr': 0.1, 'momentum': 0, 'dampening': 0, 'weight_decay': 0, 'nesterov': False, 'maximize': False}]\n",
      "optimizer.param_groups is\n",
      "[{'params': [tensor([[-0.2388, -2.0812],\n",
      "        [ 0.8339,  0.8047]], requires_grad=True)], 'lr': 0.1, 'momentum': 0, 'dampening': 0, 'weight_decay': 0, 'nesterov': False, 'maximize': False}, {'params': [tensor([[ 1.7357, -0.1898,  0.3908],\n",
      "        [-0.7719, -0.1099, -0.6309],\n",
      "        [-0.8644,  1.0370, -0.4380]], requires_grad=True)], 'lr': 0.0001, 'momentum': 0, 'dampening': 0, 'weight_decay': 0, 'nesterov': False, 'maximize': False}]\n"
     ]
    }
   ],
   "source": [
    "# 向优化器中添加一组参数\n",
    "print(\"optimizer.param_groups is\\n{}\".format(optimizer.param_groups))\n",
    "\n",
    "w2 = torch.randn((3, 3), requires_grad=True)\n",
    "\n",
    "optimizer.add_param_group({\"params\": w2, 'lr': 0.0001})\n",
    "print(\"optimizer.param_groups is\\n{}\".format(optimizer.param_groups))"
   ]
  },
  {
   "cell_type": "markdown",
   "metadata": {},
   "source": [
    "### state_dict()"
   ]
  },
  {
   "cell_type": "code",
   "execution_count": 58,
   "metadata": {},
   "outputs": [
    {
     "name": "stdout",
     "output_type": "stream",
     "text": [
      "state_dict before step:\n",
      " {'state': {}, 'param_groups': [{'lr': 0.1, 'momentum': 0.9, 'dampening': 0, 'weight_decay': 0, 'nesterov': False, 'maximize': False, 'params': [0]}]}\n",
      "state_dict after step:\n",
      " {'state': {0: {'momentum_buffer': tensor([[0., 0.],\n",
      "        [0., 0.]])}}, 'param_groups': [{'lr': 0.1, 'momentum': 0.9, 'dampening': 0, 'weight_decay': 0, 'nesterov': False, 'maximize': False, 'params': [0]}]}\n"
     ]
    }
   ],
   "source": [
    "# 首先进行 10 次反向传播更新，然后对比 state_dict 的变化。可以使用torch.save()把 state_dict 保存到 pkl 文件中。\n",
    "import os\n",
    "\n",
    "optimizer = optim.SGD([weight], lr=0.1, momentum=0.9)\n",
    "opt_state_dict = optimizer.state_dict()\n",
    "\n",
    "print(\"state_dict before step:\\n\", opt_state_dict)\n",
    "\n",
    "for i in range(10):\n",
    "    optimizer.step()\n",
    "\n",
    "print(\"state_dict after step:\\n\", optimizer.state_dict())\n",
    "\n",
    "torch.save(optimizer.state_dict(), os.path.join('', \"optimizer_state_dict.pkl\"))"
   ]
  },
  {
   "cell_type": "markdown",
   "metadata": {},
   "source": [
    "### load_state_dict()"
   ]
  },
  {
   "cell_type": "code",
   "execution_count": 59,
   "metadata": {},
   "outputs": [
    {
     "name": "stdout",
     "output_type": "stream",
     "text": [
      "state_dict before load state:\n",
      " {'state': {}, 'param_groups': [{'lr': 0.1, 'momentum': 0.9, 'dampening': 0, 'weight_decay': 0, 'nesterov': False, 'maximize': False, 'params': [0]}]}\n",
      "state_dict after load state:\n",
      " {'state': {0: {'momentum_buffer': tensor([[0., 0.],\n",
      "        [0., 0.]])}}, 'param_groups': [{'lr': 0.1, 'momentum': 0.9, 'dampening': 0, 'weight_decay': 0, 'nesterov': False, 'maximize': False, 'params': [0]}]}\n"
     ]
    }
   ],
   "source": [
    "# 上面保存了 state_dict 之后，可以先使用torch.load()把加载到内存中，然后再使用load_state_dict()加载到模型中，继续训练。\n",
    "optimizer = optim.SGD([weight], lr=0.1, momentum=0.9)\n",
    "state_dict = torch.load(os.path.join('', \"optimizer_state_dict.pkl\"))\n",
    "\n",
    "print(\"state_dict before load state:\\n\", optimizer.state_dict())\n",
    "optimizer.load_state_dict(state_dict)\n",
    "print(\"state_dict after load state:\\n\", optimizer.state_dict())"
   ]
  },
  {
   "cell_type": "markdown",
   "metadata": {},
   "source": [
    "### 学习率"
   ]
  },
  {
   "cell_type": "code",
   "execution_count": 60,
   "metadata": {},
   "outputs": [],
   "source": [
    "def func(x_t):\n",
    "    \"\"\"\n",
    "    y = (2x)^2 = 4*x^2      dy/dx = 8x\n",
    "    \"\"\"\n",
    "    return torch.pow(2*x_t, 2)"
   ]
  },
  {
   "cell_type": "code",
   "execution_count": 61,
   "metadata": {},
   "outputs": [],
   "source": [
    "# import matplotlib.pyplot as plt\n",
    "\n",
    "# iter_rec, loss_rec, x_rec = list(), list(), list()\n",
    "\n",
    "# lr = 0.01    # /1. /.5 /.2 /.1 /.125\n",
    "# max_iteration = 20   # /1. 4     /.5 4   /.2 20 200\n",
    "# # init\n",
    "# x = torch.tensor([2.], requires_grad=True)\n",
    "\n",
    "# for i in range(max_iteration):\n",
    "#     y = func(x)\n",
    "#     y.backward()\n",
    "\n",
    "#     print(\"Iter:{}, X:{:8}, X.grad:{:8}, loss:{:10}\".format(\n",
    "#     i, x.detach().numpy()[0], x.grad.detach().numpy()[0], y.item()))\n",
    "\n",
    "#     x_rec.append(x.item())\n",
    "\n",
    "#     x.data.sub_(lr * x.grad)    # x -= x.grad  数学表达式意义:  x = x - x.grad    # 0.5 0.2 0.1 0.125\n",
    "#     x.grad.zero_()\n",
    "\n",
    "#     iter_rec.append(i)\n",
    "#     loss_rec.append(y)\n",
    "\n",
    "# plt.subplot(121)\n",
    "# plt.plot(iter_rec, loss_rec, '-ro')\n",
    "\n",
    "# plt.xlabel(\"Iteration\")\n",
    "# plt.ylabel(\"Loss value\")\n",
    "\n",
    "# x_t = torch.linspace(-3, 3, 100)\n",
    "# y = func(x_t)\n",
    "# plt.subplot(122).plot(x_t.numpy(), y.numpy(), label=\"y = 4*x^2\")\n",
    "# plt.grid()\n",
    "# y_rec = [func(torch.tensor(i)).item() for i in x_rec]\n",
    "# plt.subplot(122).plot(x_rec, y_rec, '-ro')\n",
    "# plt.legend()\n",
    "# plt.show()"
   ]
  },
  {
   "cell_type": "markdown",
   "metadata": {},
   "source": [
    "### momentum 动量\n",
    "\n",
    "```\n",
    "momentum 动量的更新方法，不仅考虑当前的梯度，还会结合前面的梯度"
   ]
  },
  {
   "cell_type": "code",
   "execution_count": null,
   "metadata": {},
   "outputs": [],
   "source": []
  },
  {
   "cell_type": "code",
   "execution_count": 62,
   "metadata": {},
   "outputs": [
    {
     "data": {
      "image/png": "[encoded data removed]",
      "text/plain": [
       "<Figure size 640x480 with 1 Axes>"
      ]
     },
     "metadata": {},
     "output_type": "display_data"
    }
   ],
   "source": [
    "    def func(x):\n",
    "        return torch.pow(2*x, 2)    # y = (2x)^2 = 4*x^2        dy/dx = 8x\n",
    "\n",
    "    iteration = 100\n",
    "    m = 0     # .9 .63\n",
    "\n",
    "    lr_list = [0.01, 0.03]\n",
    "\n",
    "    momentum_list = list()\n",
    "    loss_rec = [[] for l in range(len(lr_list))]\n",
    "    iter_rec = list()\n",
    "\n",
    "    for i, lr in enumerate(lr_list):\n",
    "        x = torch.tensor([2.], requires_grad=True)\n",
    "\n",
    "        momentum = 0. if lr == 0.03 else m\n",
    "        momentum_list.append(momentum)\n",
    "\n",
    "        optimizer = optim.SGD([x], lr=lr, momentum=momentum)\n",
    "\n",
    "        for iter in range(iteration):\n",
    "\n",
    "            y = func(x)\n",
    "            y.backward()\n",
    "\n",
    "            optimizer.step()\n",
    "            optimizer.zero_grad()\n",
    "\n",
    "            loss_rec[i].append(y.item())\n",
    "\n",
    "    for i, loss_r in enumerate(loss_rec):\n",
    "        plt.plot(range(len(loss_r)), loss_r, label=\"LR: {} M:{}\".format(lr_list[i], momentum_list[i]))\n",
    "    plt.legend()\n",
    "    plt.xlabel('Iterations')\n",
    "    plt.ylabel('Loss value')\n",
    "    plt.show()"
   ]
  },
  {
   "cell_type": "markdown",
   "metadata": {},
   "source": [
    "### PyTroch 提供的 10 种优化器"
   ]
  },
  {
   "cell_type": "markdown",
   "metadata": {},
   "source": [
    "### optim.SGD\n",
    "```python\n",
    "optim.SGD(params, lr=<required parameter>, momentum=0, dampening=0, weight_decay=0, nesterov=False\n",
    "```\n",
    "```\n",
    "主要参数：\n",
    "    params：管理的参数组\n",
    "    lr：初始学习率\n",
    "    momentum：动量系数$\\beta$\n",
    "    weight_decay：L2 正则化系数\n",
    "    nesterov：是否采用 NAG"
   ]
  },
  {
   "cell_type": "markdown",
   "metadata": {},
   "source": [
    "### optim.Adagrad\n",
    "自适应学习率梯度下降法"
   ]
  },
  {
   "cell_type": "markdown",
   "metadata": {},
   "source": [
    "### optim.RMSprop\n",
    "Adagrad 的改进"
   ]
  },
  {
   "cell_type": "markdown",
   "metadata": {},
   "source": [
    "### optim.Adadelta"
   ]
  },
  {
   "cell_type": "markdown",
   "metadata": {},
   "source": [
    "### optim.Adam\n",
    "RMSProp 集合 Momentum，这个是目前最常用的优化器，因为它可以使用较大的初始学习率"
   ]
  },
  {
   "cell_type": "markdown",
   "metadata": {},
   "source": [
    "### optim.Adamax\n",
    "Adam 增加学习率上限"
   ]
  },
  {
   "cell_type": "markdown",
   "metadata": {},
   "source": [
    "### optim.SparseAdam\n",
    "稀疏版的 Adam"
   ]
  },
  {
   "cell_type": "markdown",
   "metadata": {},
   "source": [
    "### optim.ASGD\n",
    "随机平均梯度下降"
   ]
  },
  {
   "cell_type": "markdown",
   "metadata": {},
   "source": [
    "### optim.Rprop\n",
    "弹性反向传播，这种优化器通常是在所有样本都一起训练，也就是 batchsize 为全部样本时使用。"
   ]
  },
  {
   "cell_type": "markdown",
   "metadata": {},
   "source": [
    "### optim.LBFGS\n",
    "BFGS 在内存上的改进"
   ]
  },
  {
   "cell_type": "markdown",
   "metadata": {},
   "source": []
  }
 ],
 "metadata": {
  "kernelspec": {
   "display_name": "Python 3.8.13 ('pytorch_env')",
   "language": "python",
   "name": "python3"
  },
  "language_info": {
   "codemirror_mode": {
    "name": "ipython",
    "version": 3
   },
   "file_extension": ".py",
   "mimetype": "text/x-python",
   "name": "python",
   "nbconvert_exporter": "python",
   "pygments_lexer": "ipython3",
   "version": "3.8.13"
  },
  "orig_nbformat": 4,
  "vscode": {
   "interpreter": {
    "hash": "6ee8edfac98a68d22388d5c9d2c882fbbce04e225b817d7a8b0ca882dcedeab3"
   }
  }
 },
 "nbformat": 4,
 "nbformat_minor": 2
}
