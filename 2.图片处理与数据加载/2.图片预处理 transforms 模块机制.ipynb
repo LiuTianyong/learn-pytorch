{
 "cells": [
  {
   "cell_type": "markdown",
   "metadata": {},
   "source": [
    "### PyTorch 的数据增强\n",
    "```\n",
    "我们在安装PyTorch时，还安装了torchvision，这是一个计算机视觉工具包。有 3 个主要的模块：\n",
    "torchvision.transforms:  里面包括常用的图像预处理方法\n",
    "torchvision.datasets: 里面包括常用数据集如 mnist、CIFAR-10、Image-Net 等\n",
    "torchvision.models: 里面包括常用的预训练好的模型，如 AlexNet、VGG、ResNet、GoogleNet 等"
   ]
  },
  {
   "cell_type": "markdown",
   "metadata": {},
   "source": [
    "### 常用的图像预处理方法有：\n",
    "```\n",
    "数据中心化\n",
    "数据标准化\n",
    "缩放\n",
    "裁剪\n",
    "旋转\n",
    "翻转\n",
    "填充\n",
    "噪声添加\n",
    "灰度变换\n",
    "线性变换\n",
    "仿射变换\n",
    "亮度、饱和度以及对比度变换"
   ]
  },
  {
   "cell_type": "markdown",
   "metadata": {},
   "source": [
    "### transforms.Normalize\n",
    "```python\n",
    "torchvision.transforms.Normalize(mean, std, inplace=False)\n",
    "```\n",
    "```\n",
    "功能：逐 channel 地对图像进行标准化\n",
    "output = ( input - mean ) / std\n",
    "mean: 各通道的均值\n",
    "std: 各通道的标准差\n",
    "inplace: 是否原地操作\n",
    "该方法调用的是F.normalize(tensor, self.mean, self.std, self.inplace)"
   ]
  },
  {
   "cell_type": "markdown",
   "metadata": {},
   "source": []
  }
 ],
 "metadata": {
  "kernelspec": {
   "display_name": "Python 3.9.7 64-bit",
   "language": "python",
   "name": "python3"
  },
  "language_info": {
   "name": "python",
   "version": "3.9.7"
  },
  "orig_nbformat": 4,
  "vscode": {
   "interpreter": {
    "hash": "b0fa6594d8f4cbf19f97940f81e996739fb7646882a419484c72d19e05852a7e"
   }
  }
 },
 "nbformat": 4,
 "nbformat_minor": 2
}
