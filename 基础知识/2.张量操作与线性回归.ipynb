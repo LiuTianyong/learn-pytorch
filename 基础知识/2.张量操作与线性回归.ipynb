{
 "cells": [
  {
   "cell_type": "code",
   "execution_count": 1,
   "metadata": {},
   "outputs": [],
   "source": [
    "import torch"
   ]
  },
  {
   "cell_type": "markdown",
   "metadata": {},
   "source": [
    "### 1.拼接\n",
    "```python\n",
    "torch.cat(tensors, dim=0, out=None)\n",
    "```\n",
    "tensors: 张量序列\n",
    "\n",
    "dim: 要拼接的维度"
   ]
  },
  {
   "cell_type": "code",
   "execution_count": 4,
   "metadata": {},
   "outputs": [
    {
     "data": {
      "text/plain": [
       "tensor([[1., 1., 1.],\n",
       "        [1., 1., 1.]])"
      ]
     },
     "execution_count": 4,
     "metadata": {},
     "output_type": "execute_result"
    }
   ],
   "source": [
    "t = torch.ones((2, 3))\n",
    "t"
   ]
  },
  {
   "cell_type": "code",
   "execution_count": 6,
   "metadata": {},
   "outputs": [
    {
     "name": "stdout",
     "output_type": "stream",
     "text": [
      "t_0:tensor([[1., 1., 1.],\n",
      "        [1., 1., 1.],\n",
      "        [1., 1., 1.],\n",
      "        [1., 1., 1.]]) shape:torch.Size([4, 3])\n",
      "t_1:tensor([[1., 1., 1., 1., 1., 1.],\n",
      "        [1., 1., 1., 1., 1., 1.]]) shape:torch.Size([2, 6])\n"
     ]
    }
   ],
   "source": [
    "t_0 = torch.cat([t, t], dim=0)\n",
    "t_1 = torch.cat([t, t], dim=1)\n",
    "print(\"t_0:{} shape:{}\\nt_1:{} shape:{}\".format(t_0, t_0.shape, t_1, t_1.shape))"
   ]
  },
  {
   "cell_type": "markdown",
   "metadata": {},
   "source": [
    "### 2.torch.stack() 拼接\n",
    "torch.stack(tensors, dim=0, out=None)\n",
    "```\n",
    "功能：将张量在新创建的 dim 维度上进行拼接\n",
    "tensors: 张量序列\n",
    "dim: 要拼接的维度"
   ]
  },
  {
   "cell_type": "code",
   "execution_count": 14,
   "metadata": {},
   "outputs": [
    {
     "name": "stdout",
     "output_type": "stream",
     "text": [
      "\n",
      "t_stack.shape:torch.Size([2, 3, 3])\n",
      "\n",
      "t_stack.shape:torch.Size([3, 2, 3])\n"
     ]
    }
   ],
   "source": [
    "t = torch.ones((2, 3))\n",
    "# dim =2\n",
    "t_stack = torch.stack([t, t, t], dim=2)\n",
    "print(\"\\nt_stack.shape:{}\".format(t_stack.shape))\n",
    "# dim =0\n",
    "t_stack = torch.stack([t, t, t], dim=0)\n",
    "print(\"\\nt_stack.shape:{}\".format(t_stack.shape))"
   ]
  },
  {
   "cell_type": "markdown",
   "metadata": {},
   "source": [
    "### 切分\n",
    "torch.chunk(input, chunks, dim=0)\n",
    "\n",
    "```\n",
    "功能：将张量按照维度 dim 进行平均切分。若不能整除，则最后一份张量小于其他张量。\n",
    "input: 要切分的张量\n",
    "chunks: 要切分的份数\n",
    "dim: 要切分的维度 "
   ]
  },
  {
   "cell_type": "code",
   "execution_count": 15,
   "metadata": {},
   "outputs": [
    {
     "data": {
      "text/plain": [
       "tensor([[1., 1., 1., 1., 1., 1., 1.],\n",
       "        [1., 1., 1., 1., 1., 1., 1.]])"
      ]
     },
     "execution_count": 15,
     "metadata": {},
     "output_type": "execute_result"
    }
   ],
   "source": [
    "a = torch.ones((2, 7))  \n",
    "a"
   ]
  },
  {
   "cell_type": "code",
   "execution_count": 17,
   "metadata": {},
   "outputs": [
    {
     "name": "stdout",
     "output_type": "stream",
     "text": [
      "第1个张量：tensor([[1., 1., 1.],\n",
      "        [1., 1., 1.]]), shape is torch.Size([2, 3])\n",
      "第2个张量：tensor([[1., 1., 1.],\n",
      "        [1., 1., 1.]]), shape is torch.Size([2, 3])\n",
      "第3个张量：tensor([[1.],\n",
      "        [1.]]), shape is torch.Size([2, 1])\n"
     ]
    }
   ],
   "source": [
    "list_of_tensors = torch.chunk(a, dim=1, chunks=3)\n",
    "for idx, t in enumerate(list_of_tensors):\n",
    "    print(\"第{}个张量：{}, shape is {}\".format(idx+1, t, t.shape))"
   ]
  },
  {
   "cell_type": "markdown",
   "metadata": {},
   "source": [
    "### torch.split()\n",
    "torch.split(tensor, split_size_or_sections, dim=0)\n",
    "```\n",
    "功能：将张量按照维度 dim 进行平均切分。可以指定每一个分量的切分长度。\n",
    "tensor: 要切分的张量\n",
    "split_size_or_sections: 为 int 时，表示每一份的长度，如果不能被整除，则最后一份张量小于其他张量；为 list 时，按照 list 元素作为每一个分量的长度切分。如果 list 元素之和不等于切分维度 (dim) 的值，就会报错。\n",
    "dim: 要切分的维度"
   ]
  },
  {
   "cell_type": "code",
   "execution_count": 21,
   "metadata": {},
   "outputs": [
    {
     "name": "stdout",
     "output_type": "stream",
     "text": [
      "第1个张量：tensor([[1., 1., 1.],\n",
      "        [1., 1., 1.]]), shape is torch.Size([2, 3])\n",
      "第2个张量：tensor([[1.],\n",
      "        [1.]]), shape is torch.Size([2, 1])\n",
      "第3个张量：tensor([[1., 1., 1.],\n",
      "        [1., 1., 1.]]), shape is torch.Size([2, 3])\n"
     ]
    }
   ],
   "source": [
    "t = torch.ones((2, 7))\n",
    "list_of_tensors = torch.split(t, [3, 1, 3], dim=1)\n",
    "for idx, t in enumerate(list_of_tensors):\n",
    "    print(\"第{}个张量：{}, shape is {}\".format(idx+1, t, t.shape))"
   ]
  },
  {
   "cell_type": "markdown",
   "metadata": {},
   "source": [
    "### torch.index_select()\n",
    "torch.index_select(input, dim, index, out=None)\n",
    "```\n",
    "功能：在维度 dim 上，按照 index 索引取出数据拼接为张量返回。\n",
    "input: 要索引的张量\n",
    "dim: 要索引的维度\n",
    "index: 要索引数据的序号"
   ]
  },
  {
   "cell_type": "code",
   "execution_count": 26,
   "metadata": {},
   "outputs": [
    {
     "data": {
      "text/plain": [
       "tensor([[3, 2, 4],\n",
       "        [8, 7, 1],\n",
       "        [5, 1, 6]])"
      ]
     },
     "execution_count": 26,
     "metadata": {},
     "output_type": "execute_result"
    }
   ],
   "source": [
    "# 创建均匀分布\n",
    "t = torch.randint(0, 9, size=(3, 3))\n",
    "t"
   ]
  },
  {
   "cell_type": "code",
   "execution_count": 28,
   "metadata": {},
   "outputs": [
    {
     "name": "stdout",
     "output_type": "stream",
     "text": [
      "t:\n",
      "tensor([[3, 2, 4],\n",
      "        [8, 7, 1],\n",
      "        [5, 1, 6]])\n",
      "t_select:\n",
      "tensor([[3, 2, 4],\n",
      "        [5, 1, 6]])\n"
     ]
    }
   ],
   "source": [
    "# 注意 idx 的 dtype 不能指定为 torch.float\n",
    "idx = torch.tensor([0, 2], dtype=torch.long)\n",
    "# 取出第 0 行和第 2 行\n",
    "t_select = torch.index_select(t, dim=0, index=idx)\n",
    "print(\"t:\\n{}\\nt_select:\\n{}\".format(t, t_select))"
   ]
  },
  {
   "cell_type": "markdown",
   "metadata": {},
   "source": [
    "### torch.masked_select()\n",
    "torch.masked_select(input, mask, out=None)\n",
    "```\n",
    "功能：按照 mask 中的 True 进行索引拼接得到一维张量返回。\n",
    "要索引的张量\n",
    "mask: 与 input 同形状的布尔类型张量"
   ]
  },
  {
   "cell_type": "code",
   "execution_count": 32,
   "metadata": {},
   "outputs": [
    {
     "data": {
      "text/plain": [
       "tensor([[1, 2, 4],\n",
       "        [6, 1, 7],\n",
       "        [5, 5, 5]])"
      ]
     },
     "execution_count": 32,
     "metadata": {},
     "output_type": "execute_result"
    }
   ],
   "source": [
    "t = torch.randint(0, 9, size=(3, 3))\n",
    "t"
   ]
  },
  {
   "cell_type": "code",
   "execution_count": 33,
   "metadata": {},
   "outputs": [
    {
     "data": {
      "text/plain": [
       "tensor([[ True,  True,  True],\n",
       "        [False,  True, False],\n",
       "        [ True,  True,  True]])"
      ]
     },
     "execution_count": 33,
     "metadata": {},
     "output_type": "execute_result"
    }
   ],
   "source": [
    "mask = t.le(5) # 取出大于 5 的数\n",
    "mask"
   ]
  },
  {
   "cell_type": "code",
   "execution_count": 34,
   "metadata": {},
   "outputs": [
    {
     "name": "stdout",
     "output_type": "stream",
     "text": [
      "t:\n",
      "tensor([[1, 2, 4],\n",
      "        [6, 1, 7],\n",
      "        [5, 5, 5]])\n",
      "mask:\n",
      "tensor([[ True,  True,  True],\n",
      "        [False,  True, False],\n",
      "        [ True,  True,  True]])\n",
      "t_select:\n",
      "tensor([1, 2, 4, 1, 5, 5, 5]) \n"
     ]
    }
   ],
   "source": [
    "t_select = torch.masked_select(t, mask)\n",
    "print(\"t:\\n{}\\nmask:\\n{}\\nt_select:\\n{} \".format(t, mask, t_select))"
   ]
  },
  {
   "cell_type": "markdown",
   "metadata": {},
   "source": [
    "### 变换"
   ]
  },
  {
   "cell_type": "markdown",
   "metadata": {},
   "source": [
    "### torch.reshape()\n",
    "torch.reshape(input, shape)\n",
    "```\n",
    "功能：变换张量的形状。当张量在内存中是连续时，返回的张量和原来的张量共享数据内存，改变一个变量时，另一个变量也会被改变。\n",
    "input: 要变换的张量\n",
    "shape: 新张量的形状"
   ]
  },
  {
   "cell_type": "code",
   "execution_count": 35,
   "metadata": {},
   "outputs": [
    {
     "name": "stdout",
     "output_type": "stream",
     "text": [
      "t:tensor([2, 3, 1, 7, 5, 6, 4, 0])\n",
      "t_reshape:\n",
      "tensor([[[2, 3],\n",
      "         [1, 7]],\n",
      "\n",
      "        [[5, 6],\n",
      "         [4, 0]]])\n"
     ]
    }
   ],
   "source": [
    "# 生成 0 到 8 的随机排列\n",
    "t = torch.randperm(8)\n",
    "# -1 表示这个维度是根据其他维度计算得出的\n",
    "t_reshape = torch.reshape(t, (-1, 2, 2))\n",
    "print(\"t:{}\\nt_reshape:\\n{}\".format(t, t_reshape))"
   ]
  },
  {
   "cell_type": "code",
   "execution_count": 38,
   "metadata": {},
   "outputs": [
    {
     "data": {
      "text/plain": [
       "tensor([[[50,  3],\n",
       "         [ 1,  7]],\n",
       "\n",
       "        [[ 5,  6],\n",
       "         [ 4,  0]]])"
      ]
     },
     "execution_count": 38,
     "metadata": {},
     "output_type": "execute_result"
    }
   ],
   "source": [
    "t_reshape[0][0][0] = 50\n",
    "t_reshape"
   ]
  },
  {
   "cell_type": "code",
   "execution_count": 39,
   "metadata": {},
   "outputs": [
    {
     "data": {
      "text/plain": [
       "tensor([50,  3,  1,  7,  5,  6,  4,  0])"
      ]
     },
     "execution_count": 39,
     "metadata": {},
     "output_type": "execute_result"
    }
   ],
   "source": [
    "t"
   ]
  },
  {
   "cell_type": "markdown",
   "metadata": {},
   "source": [
    "### torch.transpose()\n",
    "torch.transpose(input, dim0, dim1)\n",
    "```\n",
    "功能：交换张量的两个维度。常用于图像的变换，比如把c*h*w变换为h*w*c。\n",
    "input: 要交换的变量\n",
    "dim0: 要交换的第一个维度\n",
    "dim1: 要交换的第二个维度"
   ]
  },
  {
   "cell_type": "code",
   "execution_count": 57,
   "metadata": {},
   "outputs": [
    {
     "data": {
      "text/plain": [
       "tensor([[[0.2278, 0.7458, 0.2241, 0.1204],\n",
       "         [0.6920, 0.4425, 0.4805, 0.9854],\n",
       "         [0.5773, 0.2249, 0.1282, 0.9459]],\n",
       "\n",
       "        [[0.9468, 0.7127, 0.5053, 0.1889],\n",
       "         [0.2771, 0.7588, 0.3807, 0.7135],\n",
       "         [0.2437, 0.8345, 0.8770, 0.6566]]])"
      ]
     },
     "execution_count": 57,
     "metadata": {},
     "output_type": "execute_result"
    }
   ],
   "source": [
    "#把 c * h * w 变换为 h * w * c \n",
    "t = torch.rand((2, 3, 4))\n",
    "t"
   ]
  },
  {
   "cell_type": "code",
   "execution_count": 58,
   "metadata": {},
   "outputs": [
    {
     "name": "stdout",
     "output_type": "stream",
     "text": [
      "t shape:torch.Size([2, 3, 4])\n",
      "t_transpose shape: torch.Size([2, 4, 3])\n"
     ]
    }
   ],
   "source": [
    "t_transpose = torch.transpose(t, dim0=1, dim1=2)    # c*h*w     h*w*c\n",
    "print(\"t shape:{}\\nt_transpose shape: {}\".format(t.shape, t_transpose.shape))"
   ]
  },
  {
   "cell_type": "code",
   "execution_count": 59,
   "metadata": {},
   "outputs": [
    {
     "data": {
      "text/plain": [
       "tensor([[[0.2278, 0.6920, 0.5773],\n",
       "         [0.7458, 0.4425, 0.2249],\n",
       "         [0.2241, 0.4805, 0.1282],\n",
       "         [0.1204, 0.9854, 0.9459]],\n",
       "\n",
       "        [[0.9468, 0.2771, 0.2437],\n",
       "         [0.7127, 0.7588, 0.8345],\n",
       "         [0.5053, 0.3807, 0.8770],\n",
       "         [0.1889, 0.7135, 0.6566]]])"
      ]
     },
     "execution_count": 59,
     "metadata": {},
     "output_type": "execute_result"
    }
   ],
   "source": [
    "t_transpose"
   ]
  },
  {
   "cell_type": "code",
   "execution_count": 68,
   "metadata": {},
   "outputs": [
    {
     "data": {
      "text/plain": [
       "tensor([[1, 2, 3],\n",
       "        [4, 5, 6]])"
      ]
     },
     "execution_count": 68,
     "metadata": {},
     "output_type": "execute_result"
    }
   ],
   "source": [
    "a = torch.tensor([1,2,3,4,5,6])\n",
    "b = a.reshape((2,3))\n",
    "b"
   ]
  },
  {
   "cell_type": "code",
   "execution_count": 67,
   "metadata": {},
   "outputs": [
    {
     "data": {
      "text/plain": [
       "tensor([[1, 4],\n",
       "        [2, 5],\n",
       "        [3, 6]])"
      ]
     },
     "execution_count": 67,
     "metadata": {},
     "output_type": "execute_result"
    }
   ],
   "source": [
    "b.t()"
   ]
  },
  {
   "cell_type": "markdown",
   "metadata": {},
   "source": [
    "### torch.squeeze()\n",
    "torch.squeeze(input, dim=None, out=None)\n",
    "```\n",
    "功能：压缩长度为 1 的维度。\n",
    "dim: 若为 None，则移除所有长度为 1 的维度；若指定维度，则当且仅当该维度长度为 1 时可以移除。"
   ]
  },
  {
   "cell_type": "code",
   "execution_count": 75,
   "metadata": {},
   "outputs": [
    {
     "data": {
      "text/plain": [
       "tensor([[[[0.5772],\n",
       "          [0.6671],\n",
       "          [0.6476]],\n",
       "\n",
       "         [[0.6093],\n",
       "          [0.9491],\n",
       "          [0.1761]]]])"
      ]
     },
     "execution_count": 75,
     "metadata": {},
     "output_type": "execute_result"
    }
   ],
   "source": [
    "# 维度 0 和 3 的长度是 1\n",
    "t = torch.rand((1, 2, 3, 1))\n",
    "t"
   ]
  },
  {
   "cell_type": "code",
   "execution_count": 79,
   "metadata": {},
   "outputs": [
    {
     "name": "stdout",
     "output_type": "stream",
     "text": [
      "t.shape: torch.Size([1, 2, 3, 1])\n",
      "t_sq.shape: torch.Size([2, 3])\n",
      "t_0.shape: torch.Size([2, 3, 1])\n",
      "t_1.shape: torch.Size([1, 2, 3, 1])\n"
     ]
    }
   ],
   "source": [
    "# 可以移除维度 0 和 3\n",
    "t_sq = torch.squeeze(t)\n",
    "# 可以移除维度 0\n",
    "t_0 = torch.squeeze(t, dim=0)\n",
    "# 不能移除 1\n",
    "t_1 = torch.squeeze(t, dim=1)\n",
    "print(\"t.shape: {}\".format(t.shape))\n",
    "print(\"t_sq.shape: {}\".format(t_sq.shape))\n",
    "print(\"t_0.shape: {}\".format(t_0.shape))\n",
    "print(\"t_1.shape: {}\".format(t_1.shape))"
   ]
  },
  {
   "cell_type": "markdown",
   "metadata": {},
   "source": [
    "### torch.unsqueeze()\n",
    "torch.unsqueeze(input, dim)\n",
    "```\n",
    "功能：根据 dim 扩展维度，长度为 1。"
   ]
  },
  {
   "cell_type": "code",
   "execution_count": 82,
   "metadata": {},
   "outputs": [
    {
     "data": {
      "text/plain": [
       "tensor([[1, 2, 3],\n",
       "        [4, 5, 6]])"
      ]
     },
     "execution_count": 82,
     "metadata": {},
     "output_type": "execute_result"
    }
   ],
   "source": [
    "a = torch.tensor([1,2,3,4,5,6])\n",
    "b = a.reshape((2,3))\n",
    "b"
   ]
  },
  {
   "cell_type": "code",
   "execution_count": 88,
   "metadata": {},
   "outputs": [
    {
     "data": {
      "text/plain": [
       "tensor([[[1, 2, 3],\n",
       "         [4, 5, 6]]])"
      ]
     },
     "execution_count": 88,
     "metadata": {},
     "output_type": "execute_result"
    }
   ],
   "source": [
    "torch.unsqueeze(b,dim=0)"
   ]
  },
  {
   "cell_type": "markdown",
   "metadata": {},
   "source": [
    "### 张量数学计算"
   ]
  },
  {
   "cell_type": "markdown",
   "metadata": {},
   "source": [
    "```\n",
    "torch.add(input, other, out=None)\n",
    "torch.add(input, other, *, alpha=1, out=None)\n",
    "\n",
    "功能：逐元素计算 input + alpha * other。因为在深度学习中经常用到先乘后加的操作。\n",
    "input: 第一个张量\n",
    "alpha: 乘项因子\n",
    "other: 第二个张量"
   ]
  },
  {
   "cell_type": "code",
   "execution_count": 100,
   "metadata": {},
   "outputs": [
    {
     "data": {
      "text/plain": [
       "tensor([[2., 2., 2.],\n",
       "        [2., 2., 2.]])"
      ]
     },
     "execution_count": 100,
     "metadata": {},
     "output_type": "execute_result"
    }
   ],
   "source": [
    "a = torch.ones((2,3)) * 2\n",
    "a"
   ]
  },
  {
   "cell_type": "code",
   "execution_count": 101,
   "metadata": {},
   "outputs": [
    {
     "data": {
      "text/plain": [
       "tensor([[3., 3., 3.],\n",
       "        [3., 3., 3.]])"
      ]
     },
     "execution_count": 101,
     "metadata": {},
     "output_type": "execute_result"
    }
   ],
   "source": [
    "b = torch.ones((2,3)) * 3\n",
    "b"
   ]
  },
  {
   "cell_type": "code",
   "execution_count": 102,
   "metadata": {},
   "outputs": [
    {
     "data": {
      "text/plain": [
       "tensor([[8., 8., 8.],\n",
       "        [8., 8., 8.]])"
      ]
     },
     "execution_count": 102,
     "metadata": {},
     "output_type": "execute_result"
    }
   ],
   "source": [
    "torch.add(a,b,alpha=2)"
   ]
  },
  {
   "cell_type": "markdown",
   "metadata": {},
   "source": [
    "### torch.addcmul()\n",
    "torch.addcmul(input, tensor1, tensor2, *, value=1, out=None)\n"
   ]
  },
  {
   "cell_type": "markdown",
   "metadata": {},
   "source": [
    "## 线性回归"
   ]
  },
  {
   "cell_type": "code",
   "execution_count": 1,
   "metadata": {},
   "outputs": [],
   "source": [
    "import torch\n",
    "import matplotlib.pyplot as plt"
   ]
  },
  {
   "cell_type": "code",
   "execution_count": 2,
   "metadata": {},
   "outputs": [
    {
     "data": {
      "text/plain": [
       "<torch._C.Generator at 0x1069fcbf0>"
      ]
     },
     "execution_count": 2,
     "metadata": {},
     "output_type": "execute_result"
    }
   ],
   "source": [
    "torch.manual_seed(10)"
   ]
  },
  {
   "cell_type": "code",
   "execution_count": 3,
   "metadata": {},
   "outputs": [
    {
     "data": {
      "image/png": "[encoded data removed]",
      "text/plain": [
       "<Figure size 432x288 with 1 Axes>"
      ]
     },
     "metadata": {
      "needs_background": "light"
     },
     "output_type": "display_data"
    },
    {
     "data": {
      "image/png": "[encoded data removed]",
      "text/plain": [
       "<Figure size 432x288 with 1 Axes>"
      ]
     },
     "metadata": {
      "needs_background": "light"
     },
     "output_type": "display_data"
    },
    {
     "data": {
      "image/png": "[encoded data removed]",
      "text/plain": [
       "<Figure size 432x288 with 1 Axes>"
      ]
     },
     "metadata": {
      "needs_background": "light"
     },
     "output_type": "display_data"
    },
    {
     "data": {
      "image/png": "[encoded data removed]",
      "text/plain": [
       "<Figure size 432x288 with 1 Axes>"
      ]
     },
     "metadata": {
      "needs_background": "light"
     },
     "output_type": "display_data"
    },
    {
     "data": {
      "image/png": "[encoded data removed]",
      "text/plain": [
       "<Figure size 432x288 with 1 Axes>"
      ]
     },
     "metadata": {
      "needs_background": "light"
     },
     "output_type": "display_data"
    }
   ],
   "source": [
    "lr = 0.05  # 学习率\n",
    "\n",
    "# 创建训练数据\n",
    "x = torch.rand(20, 1) * 10  # x data (tensor), shape=(20, 1)\n",
    "# torch.randn(20, 1) 用于添加噪声\n",
    "y = 2*x + (5 + torch.randn(20, 1))  # y data (tensor), shape=(20, 1)\n",
    "\n",
    "# 构建线性回归参数\n",
    "w = torch.randn((1), requires_grad=True) # 设置梯度求解为 true\n",
    "b = torch.zeros((1), requires_grad=True) # 设置梯度求解为 true\n",
    "\n",
    "# 迭代训练 1000 次\n",
    "for iteration in range(1000):\n",
    "\n",
    "    # 前向传播，计算预测值\n",
    "    wx = torch.mul(w, x)\n",
    "    y_pred = torch.add(wx, b)\n",
    "\n",
    "    # 计算 MSE loss\n",
    "    loss = (0.5 * (y - y_pred) ** 2).mean()\n",
    "\n",
    "    # 反向传播\n",
    "    loss.backward()\n",
    "\n",
    "    # 更新参数\n",
    "    b.data.sub_(lr * b.grad)\n",
    "    w.data.sub_(lr * w.grad)\n",
    "\n",
    "    # 每次更新参数之后，都要清零张量的梯度\n",
    "    w.grad.zero_()\n",
    "    b.grad.zero_()\n",
    "\n",
    "    # 绘图，每隔 20 次重新绘制直线\n",
    "    if iteration % 20 == 0:\n",
    "\n",
    "        plt.scatter(x.data.numpy(), y.data.numpy())\n",
    "        plt.plot(x.data.numpy(), y_pred.data.numpy(), 'r-', lw=5)\n",
    "        plt.text(2, 20, 'Loss=%.4f' % loss.data.numpy(), fontdict={'size': 20, 'color':  'red'})\n",
    "        plt.xlim(1.5, 10)\n",
    "        plt.ylim(8, 28)\n",
    "        plt.title(\"Iteration: {}\\nw: {} b: {}\".format(iteration, w.data.numpy(), b.data.numpy()))\n",
    "        plt.pause(0.5)\n",
    "\n",
    "        # 如果 MSE 小于 1，则停止训练\n",
    "        if loss.data.numpy() < 1:\n",
    "            break"
   ]
  },
  {
   "cell_type": "code",
   "execution_count": null,
   "metadata": {},
   "outputs": [],
   "source": []
  }
 ],
 "metadata": {
  "kernelspec": {
   "display_name": "Python 3.8.13 ('pytorch_env')",
   "language": "python",
   "name": "python3"
  },
  "language_info": {
   "codemirror_mode": {
    "name": "ipython",
    "version": 3
   },
   "file_extension": ".py",
   "mimetype": "text/x-python",
   "name": "python",
   "nbconvert_exporter": "python",
   "pygments_lexer": "ipython3",
   "version": "3.8.13"
  },
  "orig_nbformat": 4,
  "vscode": {
   "interpreter": {
    "hash": "6ee8edfac98a68d22388d5c9d2c882fbbce04e225b817d7a8b0ca882dcedeab3"
   }
  }
 },
 "nbformat": 4,
 "nbformat_minor": 2
}
